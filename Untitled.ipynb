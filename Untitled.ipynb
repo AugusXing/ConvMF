{
 "cells": [
  {
   "cell_type": "code",
   "execution_count": 1,
   "metadata": {},
   "outputs": [
    {
     "name": "stdout",
     "output_type": "stream",
     "text": [
      "Load preprocessed rating data - ./data/preprocessed/ml-1m//ratings.all\n",
      "Load preprocessed document data - ./data/preprocessed/ml-1m//document.all\n"
     ]
    }
   ],
   "source": [
    "from data_manager import Data_Factory\n",
    "\n",
    "data_factory = Data_Factory()\n",
    "R, D_all = data_factory.load('./data/preprocessed/ml-1m/')\n",
    "CNN_X = D_all['X_sequence']\n",
    "vocab_size = len(D_all['X_vocab']) + 1"
   ]
  },
  {
   "cell_type": "code",
   "execution_count": 2,
   "metadata": {},
   "outputs": [
    {
     "ename": "SyntaxError",
     "evalue": "invalid syntax (<ipython-input-2-c9f21413e673>, line 11)",
     "output_type": "error",
     "traceback": [
      "\u001b[0;36m  File \u001b[0;32m\"<ipython-input-2-c9f21413e673>\"\u001b[0;36m, line \u001b[0;32m11\u001b[0m\n\u001b[0;31m    max_len =\u001b[0m\n\u001b[0m              ^\u001b[0m\n\u001b[0;31mSyntaxError\u001b[0m\u001b[0;31m:\u001b[0m invalid syntax\n"
     ]
    }
   ],
   "source": [
    "import cnn_model\n",
    "import importlib\n",
    "importlib.reload(cnn_model)\n",
    "\n",
    "from cnn_model import CNN\n",
    "from torch.autograd import Variable\n",
    "import torch\n",
    "\n",
    "emb_dim = 50\n",
    "n_filters = 100\n",
    "\n",
    "embedding = nn.Embedding(vocab_size, emb_dim)\n",
    "conv1 = nn.Sequential(\n",
    "    # 卷积层的激活函数\n",
    "    # 将embedding dimension看做channels数\n",
    "    nn.Conv1d(emb_dim, n_filters, kernel_size=3),\n",
    "    nn.ReLU(),\n",
    "    nn.MaxPool1d(kernel_size=max_len - 3 + 1)\n",
    ")\n",
    "conv2 = nn.Sequential(\n",
    "    nn.Conv1d(emb_dim, n_filters, kernel_size=4),\n",
    "    nn.ReLU(),\n",
    "    nn.MaxPool1d(kernel_size=max_len - 4 + 1)\n",
    ")\n",
    "conv3 = nn.Sequential(\n",
    "    nn.Conv1d(emb_dim, n_filters, kernel_size=5),\n",
    "    nn.ReLU(),\n",
    "    nn.MaxPool1d(kernel_size=max_len - 5 + 1)\n",
    ")\n",
    "\n",
    "'''Dropout Layer'''\n",
    "# layer = Dense(vanila_dimension, activation='tanh')(flatten_layer)\n",
    "# layer = Dropout(dropout_rate)(layer)\n",
    "layer = nn.Linear(300, vanila_dimension)\n",
    "dropout = nn.Dropout(dropout_rate)\n",
    "\n",
    "'''Projection Layer & Output Layer'''\n",
    "# output_layer = Dense(projection_dimension, activation='tanh')(layer)\n",
    "output_layer = nn.Linear(vanila_dimension, projection_dimension)\n",
    "\n",
    "cnn_model = CNN(50, 8000, 0.2, 50, 150, 100, None)\n",
    "CNN_X = [list(map(int, item)) for item in CNN_X]\n",
    "cnn_model(Variable(torch.LongTensor([CNN_X[0]])))"
   ]
  },
  {
   "cell_type": "code",
   "execution_count": 51,
   "metadata": {},
   "outputs": [],
   "source": [
    "import numpy as np\n",
    "# 用0填充，生成array\n",
    "input_array = np.zeros((len(CNN_X), 300))\n",
    "for i in range(len(CNN_X)):\n",
    "    for j in range(len(CNN_X[i])):\n",
    "        input_array[i][j] = CNN_X[i][j]\n",
    "     \n",
    "# input_seqs is a batch of input sequences as a numpy array of integers \n",
    "# (word indices in vocabulary) padded with zeroas    \n",
    "input_seqs = Variable(torch.from_numpy(input_array.astype('int64')).long())\n",
    "\n",
    "# First: order the batch by decreasing sequence length\n",
    "input_lengths = torch.LongTensor([torch.max(input_seqs[i, :].data.nonzero())+1 \n",
    "                                  for i in range(input_seqs.size()[0])])\n",
    "input_lengths, perm_idx = input_lengths.sort(0, descending=True)\n",
    "input_seqs = input_seqs[perm_idx][:, :input_lengths.max()]\n",
    "\n",
    "embedding = nn.Embedding(8001, 50)\n",
    "embeds = embedding(input_seqs)\n",
    "\n",
    "# Then pack the sequences\n",
    "packed_input = torch.nn.utils.rnn.pack_padded_sequence(input_seqs, input_lengths.cpu().numpy(), batch_first=True)"
   ]
  },
  {
   "cell_type": "code",
   "execution_count": 53,
   "metadata": {},
   "outputs": [
    {
     "ename": "AttributeError",
     "evalue": "'PackedSequence' object has no attribute 'dim'",
     "output_type": "error",
     "traceback": [
      "\u001b[0;31m---------------------------------------------------------------------------\u001b[0m",
      "\u001b[0;31mAttributeError\u001b[0m                            Traceback (most recent call last)",
      "\u001b[0;32m<ipython-input-53-d29be466f913>\u001b[0m in \u001b[0;36m<module>\u001b[0;34m()\u001b[0m\n\u001b[1;32m     20\u001b[0m     \u001b[0mnn\u001b[0m\u001b[0;34m.\u001b[0m\u001b[0mMaxPool1d\u001b[0m\u001b[0;34m(\u001b[0m\u001b[0mkernel_size\u001b[0m\u001b[0;34m=\u001b[0m\u001b[0mmax_len\u001b[0m \u001b[0;34m-\u001b[0m \u001b[0;36m5\u001b[0m \u001b[0;34m+\u001b[0m \u001b[0;36m1\u001b[0m\u001b[0;34m)\u001b[0m\u001b[0;34m\u001b[0m\u001b[0m\n\u001b[1;32m     21\u001b[0m )\n\u001b[0;32m---> 22\u001b[0;31m \u001b[0mconv1\u001b[0m\u001b[0;34m(\u001b[0m\u001b[0mpacked_input\u001b[0m\u001b[0;34m)\u001b[0m\u001b[0;34m\u001b[0m\u001b[0m\n\u001b[0m",
      "\u001b[0;32m~/anaconda3/lib/python3.6/site-packages/torch/nn/modules/module.py\u001b[0m in \u001b[0;36m__call__\u001b[0;34m(self, *input, **kwargs)\u001b[0m\n\u001b[1;32m    323\u001b[0m         \u001b[0;32mfor\u001b[0m \u001b[0mhook\u001b[0m \u001b[0;32min\u001b[0m \u001b[0mself\u001b[0m\u001b[0;34m.\u001b[0m\u001b[0m_forward_pre_hooks\u001b[0m\u001b[0;34m.\u001b[0m\u001b[0mvalues\u001b[0m\u001b[0;34m(\u001b[0m\u001b[0;34m)\u001b[0m\u001b[0;34m:\u001b[0m\u001b[0;34m\u001b[0m\u001b[0m\n\u001b[1;32m    324\u001b[0m             \u001b[0mhook\u001b[0m\u001b[0;34m(\u001b[0m\u001b[0mself\u001b[0m\u001b[0;34m,\u001b[0m \u001b[0minput\u001b[0m\u001b[0;34m)\u001b[0m\u001b[0;34m\u001b[0m\u001b[0m\n\u001b[0;32m--> 325\u001b[0;31m         \u001b[0mresult\u001b[0m \u001b[0;34m=\u001b[0m \u001b[0mself\u001b[0m\u001b[0;34m.\u001b[0m\u001b[0mforward\u001b[0m\u001b[0;34m(\u001b[0m\u001b[0;34m*\u001b[0m\u001b[0minput\u001b[0m\u001b[0;34m,\u001b[0m \u001b[0;34m**\u001b[0m\u001b[0mkwargs\u001b[0m\u001b[0;34m)\u001b[0m\u001b[0;34m\u001b[0m\u001b[0m\n\u001b[0m\u001b[1;32m    326\u001b[0m         \u001b[0;32mfor\u001b[0m \u001b[0mhook\u001b[0m \u001b[0;32min\u001b[0m \u001b[0mself\u001b[0m\u001b[0;34m.\u001b[0m\u001b[0m_forward_hooks\u001b[0m\u001b[0;34m.\u001b[0m\u001b[0mvalues\u001b[0m\u001b[0;34m(\u001b[0m\u001b[0;34m)\u001b[0m\u001b[0;34m:\u001b[0m\u001b[0;34m\u001b[0m\u001b[0m\n\u001b[1;32m    327\u001b[0m             \u001b[0mhook_result\u001b[0m \u001b[0;34m=\u001b[0m \u001b[0mhook\u001b[0m\u001b[0;34m(\u001b[0m\u001b[0mself\u001b[0m\u001b[0;34m,\u001b[0m \u001b[0minput\u001b[0m\u001b[0;34m,\u001b[0m \u001b[0mresult\u001b[0m\u001b[0;34m)\u001b[0m\u001b[0;34m\u001b[0m\u001b[0m\n",
      "\u001b[0;32m~/anaconda3/lib/python3.6/site-packages/torch/nn/modules/container.py\u001b[0m in \u001b[0;36mforward\u001b[0;34m(self, input)\u001b[0m\n\u001b[1;32m     65\u001b[0m     \u001b[0;32mdef\u001b[0m \u001b[0mforward\u001b[0m\u001b[0;34m(\u001b[0m\u001b[0mself\u001b[0m\u001b[0;34m,\u001b[0m \u001b[0minput\u001b[0m\u001b[0;34m)\u001b[0m\u001b[0;34m:\u001b[0m\u001b[0;34m\u001b[0m\u001b[0m\n\u001b[1;32m     66\u001b[0m         \u001b[0;32mfor\u001b[0m \u001b[0mmodule\u001b[0m \u001b[0;32min\u001b[0m \u001b[0mself\u001b[0m\u001b[0;34m.\u001b[0m\u001b[0m_modules\u001b[0m\u001b[0;34m.\u001b[0m\u001b[0mvalues\u001b[0m\u001b[0;34m(\u001b[0m\u001b[0;34m)\u001b[0m\u001b[0;34m:\u001b[0m\u001b[0;34m\u001b[0m\u001b[0m\n\u001b[0;32m---> 67\u001b[0;31m             \u001b[0minput\u001b[0m \u001b[0;34m=\u001b[0m \u001b[0mmodule\u001b[0m\u001b[0;34m(\u001b[0m\u001b[0minput\u001b[0m\u001b[0;34m)\u001b[0m\u001b[0;34m\u001b[0m\u001b[0m\n\u001b[0m\u001b[1;32m     68\u001b[0m         \u001b[0;32mreturn\u001b[0m \u001b[0minput\u001b[0m\u001b[0;34m\u001b[0m\u001b[0m\n\u001b[1;32m     69\u001b[0m \u001b[0;34m\u001b[0m\u001b[0m\n",
      "\u001b[0;32m~/anaconda3/lib/python3.6/site-packages/torch/nn/modules/module.py\u001b[0m in \u001b[0;36m__call__\u001b[0;34m(self, *input, **kwargs)\u001b[0m\n\u001b[1;32m    323\u001b[0m         \u001b[0;32mfor\u001b[0m \u001b[0mhook\u001b[0m \u001b[0;32min\u001b[0m \u001b[0mself\u001b[0m\u001b[0;34m.\u001b[0m\u001b[0m_forward_pre_hooks\u001b[0m\u001b[0;34m.\u001b[0m\u001b[0mvalues\u001b[0m\u001b[0;34m(\u001b[0m\u001b[0;34m)\u001b[0m\u001b[0;34m:\u001b[0m\u001b[0;34m\u001b[0m\u001b[0m\n\u001b[1;32m    324\u001b[0m             \u001b[0mhook\u001b[0m\u001b[0;34m(\u001b[0m\u001b[0mself\u001b[0m\u001b[0;34m,\u001b[0m \u001b[0minput\u001b[0m\u001b[0;34m)\u001b[0m\u001b[0;34m\u001b[0m\u001b[0m\n\u001b[0;32m--> 325\u001b[0;31m         \u001b[0mresult\u001b[0m \u001b[0;34m=\u001b[0m \u001b[0mself\u001b[0m\u001b[0;34m.\u001b[0m\u001b[0mforward\u001b[0m\u001b[0;34m(\u001b[0m\u001b[0;34m*\u001b[0m\u001b[0minput\u001b[0m\u001b[0;34m,\u001b[0m \u001b[0;34m**\u001b[0m\u001b[0mkwargs\u001b[0m\u001b[0;34m)\u001b[0m\u001b[0;34m\u001b[0m\u001b[0m\n\u001b[0m\u001b[1;32m    326\u001b[0m         \u001b[0;32mfor\u001b[0m \u001b[0mhook\u001b[0m \u001b[0;32min\u001b[0m \u001b[0mself\u001b[0m\u001b[0;34m.\u001b[0m\u001b[0m_forward_hooks\u001b[0m\u001b[0;34m.\u001b[0m\u001b[0mvalues\u001b[0m\u001b[0;34m(\u001b[0m\u001b[0;34m)\u001b[0m\u001b[0;34m:\u001b[0m\u001b[0;34m\u001b[0m\u001b[0m\n\u001b[1;32m    327\u001b[0m             \u001b[0mhook_result\u001b[0m \u001b[0;34m=\u001b[0m \u001b[0mhook\u001b[0m\u001b[0;34m(\u001b[0m\u001b[0mself\u001b[0m\u001b[0;34m,\u001b[0m \u001b[0minput\u001b[0m\u001b[0;34m,\u001b[0m \u001b[0mresult\u001b[0m\u001b[0;34m)\u001b[0m\u001b[0;34m\u001b[0m\u001b[0m\n",
      "\u001b[0;32m~/anaconda3/lib/python3.6/site-packages/torch/nn/modules/conv.py\u001b[0m in \u001b[0;36mforward\u001b[0;34m(self, input)\u001b[0m\n\u001b[1;32m    164\u001b[0m     \u001b[0;32mdef\u001b[0m \u001b[0mforward\u001b[0m\u001b[0;34m(\u001b[0m\u001b[0mself\u001b[0m\u001b[0;34m,\u001b[0m \u001b[0minput\u001b[0m\u001b[0;34m)\u001b[0m\u001b[0;34m:\u001b[0m\u001b[0;34m\u001b[0m\u001b[0m\n\u001b[1;32m    165\u001b[0m         return F.conv1d(input, self.weight, self.bias, self.stride,\n\u001b[0;32m--> 166\u001b[0;31m                         self.padding, self.dilation, self.groups)\n\u001b[0m\u001b[1;32m    167\u001b[0m \u001b[0;34m\u001b[0m\u001b[0m\n\u001b[1;32m    168\u001b[0m \u001b[0;34m\u001b[0m\u001b[0m\n",
      "\u001b[0;32m~/anaconda3/lib/python3.6/site-packages/torch/nn/functional.py\u001b[0m in \u001b[0;36mconv1d\u001b[0;34m(input, weight, bias, stride, padding, dilation, groups)\u001b[0m\n\u001b[1;32m     46\u001b[0m         \u001b[0;34m>>\u001b[0m\u001b[0;34m>\u001b[0m \u001b[0mF\u001b[0m\u001b[0;34m.\u001b[0m\u001b[0mconv1d\u001b[0m\u001b[0;34m(\u001b[0m\u001b[0minputs\u001b[0m\u001b[0;34m,\u001b[0m \u001b[0mfilters\u001b[0m\u001b[0;34m)\u001b[0m\u001b[0;34m\u001b[0m\u001b[0m\n\u001b[1;32m     47\u001b[0m     \"\"\"\n\u001b[0;32m---> 48\u001b[0;31m     \u001b[0;32mif\u001b[0m \u001b[0minput\u001b[0m \u001b[0;32mis\u001b[0m \u001b[0;32mnot\u001b[0m \u001b[0;32mNone\u001b[0m \u001b[0;32mand\u001b[0m \u001b[0minput\u001b[0m\u001b[0;34m.\u001b[0m\u001b[0mdim\u001b[0m\u001b[0;34m(\u001b[0m\u001b[0;34m)\u001b[0m \u001b[0;34m!=\u001b[0m \u001b[0;36m3\u001b[0m\u001b[0;34m:\u001b[0m\u001b[0;34m\u001b[0m\u001b[0m\n\u001b[0m\u001b[1;32m     49\u001b[0m         \u001b[0;32mraise\u001b[0m \u001b[0mValueError\u001b[0m\u001b[0;34m(\u001b[0m\u001b[0;34m\"Expected 3D tensor as input, got {}D tensor instead.\"\u001b[0m\u001b[0;34m.\u001b[0m\u001b[0mformat\u001b[0m\u001b[0;34m(\u001b[0m\u001b[0minput\u001b[0m\u001b[0;34m.\u001b[0m\u001b[0mdim\u001b[0m\u001b[0;34m(\u001b[0m\u001b[0;34m)\u001b[0m\u001b[0;34m)\u001b[0m\u001b[0;34m)\u001b[0m\u001b[0;34m\u001b[0m\u001b[0m\n\u001b[1;32m     50\u001b[0m \u001b[0;34m\u001b[0m\u001b[0m\n",
      "\u001b[0;31mAttributeError\u001b[0m: 'PackedSequence' object has no attribute 'dim'"
     ]
    }
   ],
   "source": [
    "emb_dim = 50\n",
    "n_filters = 100\n",
    "max_len = 150\n",
    "\n",
    "conv1 = nn.Sequential(\n",
    "    # 卷积层的激活函数\n",
    "    # 将embedding dimension看做channels数\n",
    "    nn.Conv1d(emb_dim, n_filters, kernel_size=3),\n",
    "    nn.ReLU(),\n",
    "    nn.MaxPool1d(kernel_size=max_len - 3 + 1)\n",
    ")\n",
    "conv2 = nn.Sequential(\n",
    "    nn.Conv1d(emb_dim, n_filters, kernel_size=4),\n",
    "    nn.ReLU(),\n",
    "    nn.MaxPool1d(kernel_size=max_len - 4 + 1)\n",
    ")\n",
    "conv3 = nn.Sequential(\n",
    "    nn.Conv1d(emb_dim, n_filters, kernel_size=5),\n",
    "    nn.ReLU(),\n",
    "    nn.MaxPool1d(kernel_size=max_len - 5 + 1)\n",
    ")\n",
    "conv1(packed_input)"
   ]
  },
  {
   "cell_type": "code",
   "execution_count": 50,
   "metadata": {},
   "outputs": [
    {
     "name": "stdout",
     "output_type": "stream",
     "text": [
      "int64\n",
      "torch.Size([3544, 219])\n"
     ]
    },
    {
     "ename": "RuntimeError",
     "evalue": "invalid argument 1: input is not contiguous at /opt/conda/conda-bld/pytorch_1512387374934/work/torch/lib/TH/generic/THTensor.c:231",
     "output_type": "error",
     "traceback": [
      "\u001b[0;31m---------------------------------------------------------------------------\u001b[0m",
      "\u001b[0;31mRuntimeError\u001b[0m                              Traceback (most recent call last)",
      "\u001b[0;32m<ipython-input-50-ecf6299446ce>\u001b[0m in \u001b[0;36m<module>\u001b[0;34m()\u001b[0m\n\u001b[1;32m      1\u001b[0m \u001b[0mprint\u001b[0m\u001b[0;34m(\u001b[0m\u001b[0minput_array\u001b[0m\u001b[0;34m.\u001b[0m\u001b[0mastype\u001b[0m\u001b[0;34m(\u001b[0m\u001b[0;34m'int64'\u001b[0m\u001b[0;34m)\u001b[0m\u001b[0;34m.\u001b[0m\u001b[0mdtype\u001b[0m\u001b[0;34m)\u001b[0m\u001b[0;34m\u001b[0m\u001b[0m\n\u001b[1;32m      2\u001b[0m \u001b[0mprint\u001b[0m\u001b[0;34m(\u001b[0m\u001b[0minput_seqs\u001b[0m\u001b[0;34m.\u001b[0m\u001b[0mshape\u001b[0m\u001b[0;34m)\u001b[0m\u001b[0;34m\u001b[0m\u001b[0m\n\u001b[0;32m----> 3\u001b[0;31m \u001b[0mtorch\u001b[0m\u001b[0;34m.\u001b[0m\u001b[0mmax\u001b[0m\u001b[0;34m(\u001b[0m\u001b[0minput_seqs\u001b[0m\u001b[0;34m.\u001b[0m\u001b[0mview\u001b[0m\u001b[0;34m(\u001b[0m\u001b[0;34m-\u001b[0m\u001b[0;36m1\u001b[0m\u001b[0;34m)\u001b[0m\u001b[0;34m)\u001b[0m\u001b[0;34m\u001b[0m\u001b[0m\n\u001b[0m",
      "\u001b[0;31mRuntimeError\u001b[0m: invalid argument 1: input is not contiguous at /opt/conda/conda-bld/pytorch_1512387374934/work/torch/lib/TH/generic/THTensor.c:231"
     ]
    }
   ],
   "source": [
    "print(input_array.astype('int64').dtype)\n",
    "print(input_seqs.shape)\n",
    "torch.max(input_seqs.view(-1))"
   ]
  },
  {
   "cell_type": "code",
   "execution_count": 43,
   "metadata": {},
   "outputs": [
    {
     "data": {
      "text/plain": [
       "Variable containing:\n",
       "-0.5975 -0.4162 -1.1905  ...   0.9855  0.0066 -1.1089\n",
       " 1.4712  1.3211  0.8214  ...   0.5865  0.0819 -1.1518\n",
       "-0.5349 -0.8820 -1.1415  ...  -1.1853  0.5664 -0.7047\n",
       "          ...             ⋱             ...          \n",
       " 1.1340  0.1488  0.9449  ...  -0.4770 -0.9945  0.5981\n",
       "-0.8337  0.8165 -1.3077  ...  -0.3810  1.1298 -0.6406\n",
       " 0.0744  0.0144  0.6307  ...  -1.3569  0.3621  0.7427\n",
       "[torch.FloatTensor of size 146x50]"
      ]
     },
     "execution_count": 43,
     "metadata": {},
     "output_type": "execute_result"
    }
   ],
   "source": [
    "from torch import nn\n",
    "from torch.autograd import Variable\n",
    "import torch\n",
    "from torch.nn.utils.rnn import pad_packed_sequence\n",
    "\n",
    "CNN_X = [list(map(int, item)) for item in CNN_X]\n",
    "\n",
    "embedding = nn.Embedding(8000, 50)\n",
    "input = Variable(torch.LongTensor(CNN_X[0]))\n",
    "input.size()\n",
    "embedding(input)"
   ]
  },
  {
   "cell_type": "code",
   "execution_count": null,
   "metadata": {
    "collapsed": true
   },
   "outputs": [],
   "source": [
    "conv1 = nn.Sequential(\n",
    "    # 卷积层的激活函数\n",
    "    # 将embedding dimension看做channels数\n",
    "    nn.Conv1d(50, 100, kernel_size=3),\n",
    "    nn.ReLU(),\n",
    "    nn.MaxPool1d(kernel_size=3, padding=10)\n",
    ")\n",
    "\n",
    "print(conv1(embeds).size())"
   ]
  },
  {
   "cell_type": "code",
   "execution_count": 9,
   "metadata": {},
   "outputs": [
    {
     "name": "stdout",
     "output_type": "stream",
     "text": [
      "downloading trainDevTestTrees_PTB.zip\n",
      "extracting\n"
     ]
    }
   ],
   "source": [
    "import torchtext.data as data\n",
    "import torchtext.datasets as datasets\n",
    "\n",
    "TEXT = data.Field(lower=True)\n",
    "LABEL = data.Field(sequential=False)\n",
    "train, val, test = datasets.SST.splits(TEXT, LABEL, fine_grained=True)"
   ]
  },
  {
   "cell_type": "code",
   "execution_count": 22,
   "metadata": {
    "collapsed": true
   },
   "outputs": [],
   "source": [
    "TEXT.build_vocab(train, val, test)\n",
    "LABEL.build_vocab(train, val, test)\n",
    "train_iter, val_iter, test_iter = data.Iterator.splits((train, val, test), batch_sizes=(64, len(val), len(test)))"
   ]
  },
  {
   "cell_type": "code",
   "execution_count": null,
   "metadata": {
    "collapsed": true
   },
   "outputs": [],
   "source": []
  }
 ],
 "metadata": {
  "kernelspec": {
   "display_name": "Python 3",
   "language": "python",
   "name": "python3"
  },
  "language_info": {
   "codemirror_mode": {
    "name": "ipython",
    "version": 3
   },
   "file_extension": ".py",
   "mimetype": "text/x-python",
   "name": "python",
   "nbconvert_exporter": "python",
   "pygments_lexer": "ipython3",
   "version": "3.6.3"
  }
 },
 "nbformat": 4,
 "nbformat_minor": 2
}
