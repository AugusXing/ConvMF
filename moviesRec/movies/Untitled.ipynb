{
 "cells": [
  {
   "cell_type": "code",
   "execution_count": 20,
   "metadata": {
    "collapsed": false
   },
   "outputs": [],
   "source": [
    "import numpy as np\n",
    "import random\n",
    "user = 0\n",
    "\n",
    "U = np.loadtxt('U.dat')\n",
    "V = np.loadtxt('V.dat')\n",
    "\n",
    "approx_R = U[user].dot(V.T)\n",
    "n_range = range(len(approx_R))\n",
    "R_dict = dict(zip(n_range, approx_R))\n",
    "R_sort = sorted(R_dict.items(), key=lambda d:d[1], reverse=True)\n",
    "\n",
    "R_comm = [tupe[0] for tupe in random.sample(R_sort[:30], 5)]"
   ]
  },
  {
   "cell_type": "code",
   "execution_count": 21,
   "metadata": {
    "collapsed": false
   },
   "outputs": [
    {
     "data": {
      "text/plain": [
       "[1527, 665, 502, 37, 166]"
      ]
     },
     "execution_count": 21,
     "metadata": {},
     "output_type": "execute_result"
    }
   ],
   "source": [
    "R_comm"
   ]
  },
  {
   "cell_type": "code",
   "execution_count": 19,
   "metadata": {
    "collapsed": false
   },
   "outputs": [
    {
     "data": {
      "text/plain": [
       "[(39, 4.6489852844337056),\n",
       " (49, 4.5578160712408069),\n",
       " (206, 4.3273462773324995),\n",
       " (1153, 4.3436401175941377),\n",
       " (212, 4.2970509294660646)]"
      ]
     },
     "execution_count": 19,
     "metadata": {},
     "output_type": "execute_result"
    }
   ],
   "source": [
    "random.sample(R_sort[:30], 5)"
   ]
  },
  {
   "cell_type": "code",
   "execution_count": null,
   "metadata": {
    "collapsed": true
   },
   "outputs": [],
   "source": []
  }
 ],
 "metadata": {
  "kernelspec": {
   "display_name": "Python 3",
   "language": "python",
   "name": "python3"
  },
  "language_info": {
   "codemirror_mode": {
    "name": "ipython",
    "version": 3
   },
   "file_extension": ".py",
   "mimetype": "text/x-python",
   "name": "python",
   "nbconvert_exporter": "python",
   "pygments_lexer": "ipython3",
   "version": "3.6.0"
  }
 },
 "nbformat": 4,
 "nbformat_minor": 2
}
